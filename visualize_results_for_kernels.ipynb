{
 "cells": [
  {
   "cell_type": "code",
   "execution_count": 5,
   "metadata": {},
   "outputs": [],
   "source": [
    "import numpy as np\n",
    "import pandas as pd\n",
    "import os\n",
    "import matplotlib.pyplot as plt\n",
    "from utils import abs_listdir"
   ]
  },
  {
   "cell_type": "code",
   "execution_count": 6,
   "metadata": {},
   "outputs": [],
   "source": [
    "csv_results = abs_listdir('results/kernels/')"
   ]
  },
  {
   "cell_type": "code",
   "execution_count": 7,
   "metadata": {
    "scrolled": false
   },
   "outputs": [
    {
     "data": {
      "text/plain": "      node type     start   first   avg_ms            %       cdf%   mem KB  \\\n0       CONV_2D   0.00000  10.716  9.46698     32.3717%   32.3717%        0   \n1           PAD   9.46744   0.210  0.21614    0.739076%   33.1108%        0   \n2   MAX_POOL_2D   9.68390   1.322  1.43016     4.89033%   38.0011%        0   \n3       CONV_2D  11.11450   7.404  7.58990     25.9531%   63.9542%        0   \n4           PAD  18.70490   0.100  0.10232    0.349876%   64.3041%        0   \n5   MAX_POOL_2D  18.80760   0.398  0.41418     1.41626%   65.7204%        0   \n6       CONV_2D  19.22210   5.240  5.54472     18.9598%   84.6801%        0   \n7           PAD  24.76730   0.041  0.05174    0.176921%   84.8571%        0   \n8   MAX_POOL_2D  24.81930   0.122  0.13296    0.454647%   85.3117%        0   \n9       CONV_2D  24.95280   4.104  4.17084     14.2619%   99.5736%        0   \n10          PAD  29.12450   0.018  0.01842   0.0629859%   99.6366%        0   \n11  MAX_POOL_2D  29.14300   0.040  0.04428    0.151412%    99.788%        0   \n12      RESHAPE  29.18740   0.004  0.00386    0.013199%   99.8012%        0   \n13      SOFTMAX  29.19140   0.051  0.05814    0.198806%       100%        0   \n\n     times called                                          name  \n0               1            [sequential_12/conv2d_48/Conv2D]:0  \n1               1       [sequential_12/zero_padding2d_48/Pad]:1  \n2               1    [sequential_12/max_pooling2d_48/MaxPool]:2  \n3               1            [sequential_12/conv2d_49/Conv2D]:3  \n4               1       [sequential_12/zero_padding2d_49/Pad]:4  \n5               1    [sequential_12/max_pooling2d_49/MaxPool]:5  \n6               1            [sequential_12/conv2d_50/Conv2D]:6  \n7               1       [sequential_12/zero_padding2d_50/Pad]:7  \n8               1    [sequential_12/max_pooling2d_50/MaxPool]:8  \n9               1            [sequential_12/conv2d_51/Conv2D]:9  \n10              1      [sequential_12/zero_padding2d_51/Pad]:10  \n11              1   [sequential_12/max_pooling2d_51/MaxPool]:11  \n12              1         [sequential_12/flatten_12/Reshape]:12  \n13              1                                 [Identity]:13  ",
      "text/html": "<div>\n<style scoped>\n    .dataframe tbody tr th:only-of-type {\n        vertical-align: middle;\n    }\n\n    .dataframe tbody tr th {\n        vertical-align: top;\n    }\n\n    .dataframe thead th {\n        text-align: right;\n    }\n</style>\n<table border=\"1\" class=\"dataframe\">\n  <thead>\n    <tr style=\"text-align: right;\">\n      <th></th>\n      <th>node type</th>\n      <th>start</th>\n      <th>first</th>\n      <th>avg_ms</th>\n      <th>%</th>\n      <th>cdf%</th>\n      <th>mem KB</th>\n      <th>times called</th>\n      <th>name</th>\n    </tr>\n  </thead>\n  <tbody>\n    <tr>\n      <th>0</th>\n      <td>CONV_2D</td>\n      <td>0.00000</td>\n      <td>10.716</td>\n      <td>9.46698</td>\n      <td>32.3717%</td>\n      <td>32.3717%</td>\n      <td>0</td>\n      <td>1</td>\n      <td>[sequential_12/conv2d_48/Conv2D]:0</td>\n    </tr>\n    <tr>\n      <th>1</th>\n      <td>PAD</td>\n      <td>9.46744</td>\n      <td>0.210</td>\n      <td>0.21614</td>\n      <td>0.739076%</td>\n      <td>33.1108%</td>\n      <td>0</td>\n      <td>1</td>\n      <td>[sequential_12/zero_padding2d_48/Pad]:1</td>\n    </tr>\n    <tr>\n      <th>2</th>\n      <td>MAX_POOL_2D</td>\n      <td>9.68390</td>\n      <td>1.322</td>\n      <td>1.43016</td>\n      <td>4.89033%</td>\n      <td>38.0011%</td>\n      <td>0</td>\n      <td>1</td>\n      <td>[sequential_12/max_pooling2d_48/MaxPool]:2</td>\n    </tr>\n    <tr>\n      <th>3</th>\n      <td>CONV_2D</td>\n      <td>11.11450</td>\n      <td>7.404</td>\n      <td>7.58990</td>\n      <td>25.9531%</td>\n      <td>63.9542%</td>\n      <td>0</td>\n      <td>1</td>\n      <td>[sequential_12/conv2d_49/Conv2D]:3</td>\n    </tr>\n    <tr>\n      <th>4</th>\n      <td>PAD</td>\n      <td>18.70490</td>\n      <td>0.100</td>\n      <td>0.10232</td>\n      <td>0.349876%</td>\n      <td>64.3041%</td>\n      <td>0</td>\n      <td>1</td>\n      <td>[sequential_12/zero_padding2d_49/Pad]:4</td>\n    </tr>\n    <tr>\n      <th>5</th>\n      <td>MAX_POOL_2D</td>\n      <td>18.80760</td>\n      <td>0.398</td>\n      <td>0.41418</td>\n      <td>1.41626%</td>\n      <td>65.7204%</td>\n      <td>0</td>\n      <td>1</td>\n      <td>[sequential_12/max_pooling2d_49/MaxPool]:5</td>\n    </tr>\n    <tr>\n      <th>6</th>\n      <td>CONV_2D</td>\n      <td>19.22210</td>\n      <td>5.240</td>\n      <td>5.54472</td>\n      <td>18.9598%</td>\n      <td>84.6801%</td>\n      <td>0</td>\n      <td>1</td>\n      <td>[sequential_12/conv2d_50/Conv2D]:6</td>\n    </tr>\n    <tr>\n      <th>7</th>\n      <td>PAD</td>\n      <td>24.76730</td>\n      <td>0.041</td>\n      <td>0.05174</td>\n      <td>0.176921%</td>\n      <td>84.8571%</td>\n      <td>0</td>\n      <td>1</td>\n      <td>[sequential_12/zero_padding2d_50/Pad]:7</td>\n    </tr>\n    <tr>\n      <th>8</th>\n      <td>MAX_POOL_2D</td>\n      <td>24.81930</td>\n      <td>0.122</td>\n      <td>0.13296</td>\n      <td>0.454647%</td>\n      <td>85.3117%</td>\n      <td>0</td>\n      <td>1</td>\n      <td>[sequential_12/max_pooling2d_50/MaxPool]:8</td>\n    </tr>\n    <tr>\n      <th>9</th>\n      <td>CONV_2D</td>\n      <td>24.95280</td>\n      <td>4.104</td>\n      <td>4.17084</td>\n      <td>14.2619%</td>\n      <td>99.5736%</td>\n      <td>0</td>\n      <td>1</td>\n      <td>[sequential_12/conv2d_51/Conv2D]:9</td>\n    </tr>\n    <tr>\n      <th>10</th>\n      <td>PAD</td>\n      <td>29.12450</td>\n      <td>0.018</td>\n      <td>0.01842</td>\n      <td>0.0629859%</td>\n      <td>99.6366%</td>\n      <td>0</td>\n      <td>1</td>\n      <td>[sequential_12/zero_padding2d_51/Pad]:10</td>\n    </tr>\n    <tr>\n      <th>11</th>\n      <td>MAX_POOL_2D</td>\n      <td>29.14300</td>\n      <td>0.040</td>\n      <td>0.04428</td>\n      <td>0.151412%</td>\n      <td>99.788%</td>\n      <td>0</td>\n      <td>1</td>\n      <td>[sequential_12/max_pooling2d_51/MaxPool]:11</td>\n    </tr>\n    <tr>\n      <th>12</th>\n      <td>RESHAPE</td>\n      <td>29.18740</td>\n      <td>0.004</td>\n      <td>0.00386</td>\n      <td>0.013199%</td>\n      <td>99.8012%</td>\n      <td>0</td>\n      <td>1</td>\n      <td>[sequential_12/flatten_12/Reshape]:12</td>\n    </tr>\n    <tr>\n      <th>13</th>\n      <td>SOFTMAX</td>\n      <td>29.19140</td>\n      <td>0.051</td>\n      <td>0.05814</td>\n      <td>0.198806%</td>\n      <td>100%</td>\n      <td>0</td>\n      <td>1</td>\n      <td>[Identity]:13</td>\n    </tr>\n  </tbody>\n</table>\n</div>"
     },
     "execution_count": 7,
     "metadata": {},
     "output_type": "execute_result"
    }
   ],
   "source": [
    "df = pd.read_csv(csv_results[1])\n",
    "df"
   ]
  },
  {
   "cell_type": "code",
   "execution_count": 8,
   "metadata": {},
   "outputs": [
    {
     "data": {
      "text/plain": "                              kernel_size  conv_time_total\nkernel_size_1_1_benchmark.csv      (1, 1)         1.940914\nkernel_size_2_2_benchmark.csv      (2, 2)         5.359588\nkernel_size_3_3_benchmark.csv      (3, 3)        10.332360\nkernel_size_4_4_benchmark.csv      (4, 4)        18.889680\nkernel_size_5_5_benchmark.csv      (5, 5)        26.772440\nkernel_size_6_6_benchmark.csv      (6, 6)        40.019680\nkernel_size_7_7_benchmark.csv      (7, 7)        46.114880\nkernel_size_8_8_benchmark.csv      (8, 8)        69.101180\nkernel_size_9_9_benchmark.csv      (9, 9)        85.266600",
      "text/html": "<div>\n<style scoped>\n    .dataframe tbody tr th:only-of-type {\n        vertical-align: middle;\n    }\n\n    .dataframe tbody tr th {\n        vertical-align: top;\n    }\n\n    .dataframe thead th {\n        text-align: right;\n    }\n</style>\n<table border=\"1\" class=\"dataframe\">\n  <thead>\n    <tr style=\"text-align: right;\">\n      <th></th>\n      <th>kernel_size</th>\n      <th>conv_time_total</th>\n    </tr>\n  </thead>\n  <tbody>\n    <tr>\n      <th>kernel_size_1_1_benchmark.csv</th>\n      <td>(1, 1)</td>\n      <td>1.940914</td>\n    </tr>\n    <tr>\n      <th>kernel_size_2_2_benchmark.csv</th>\n      <td>(2, 2)</td>\n      <td>5.359588</td>\n    </tr>\n    <tr>\n      <th>kernel_size_3_3_benchmark.csv</th>\n      <td>(3, 3)</td>\n      <td>10.332360</td>\n    </tr>\n    <tr>\n      <th>kernel_size_4_4_benchmark.csv</th>\n      <td>(4, 4)</td>\n      <td>18.889680</td>\n    </tr>\n    <tr>\n      <th>kernel_size_5_5_benchmark.csv</th>\n      <td>(5, 5)</td>\n      <td>26.772440</td>\n    </tr>\n    <tr>\n      <th>kernel_size_6_6_benchmark.csv</th>\n      <td>(6, 6)</td>\n      <td>40.019680</td>\n    </tr>\n    <tr>\n      <th>kernel_size_7_7_benchmark.csv</th>\n      <td>(7, 7)</td>\n      <td>46.114880</td>\n    </tr>\n    <tr>\n      <th>kernel_size_8_8_benchmark.csv</th>\n      <td>(8, 8)</td>\n      <td>69.101180</td>\n    </tr>\n    <tr>\n      <th>kernel_size_9_9_benchmark.csv</th>\n      <td>(9, 9)</td>\n      <td>85.266600</td>\n    </tr>\n  </tbody>\n</table>\n</div>"
     },
     "execution_count": 8,
     "metadata": {},
     "output_type": "execute_result"
    }
   ],
   "source": [
    "dfs = {os.path.split(r)[1] : pd.read_csv(r) for r in csv_results}\n",
    "conv_time_total = {}\n",
    "padding_time_total = {}\n",
    "kernel_size = {}\n",
    "\n",
    "for filename, df in dfs.items():\n",
    "    # convolution statistics\n",
    "    df_convs = df[df['node type'].apply(lambda s: 'CONV' in s)]\n",
    "    conv_time_total[filename] = df_convs[' avg_ms'].sum()\n",
    "\n",
    "    # kernel size\n",
    "    ks = filename.split('_')[2:4]\n",
    "    ks = (int(ks[0]), int(ks[1]))\n",
    "    kernel_size[filename] = ks\n",
    "\n",
    "result = pd.DataFrame({'kernel_size': kernel_size,\n",
    "                       'conv_time_total': conv_time_total})\n",
    "result.sort_index(inplace=True)\n",
    "result"
   ]
  },
  {
   "cell_type": "code",
   "execution_count": 9,
   "metadata": {},
   "outputs": [
    {
     "data": {
      "text/plain": "<Figure size 432x288 with 1 Axes>",
      "image/png": "[encoded data removed]"
     },
     "metadata": {
      "needs_background": "light"
     },
     "output_type": "display_data"
    }
   ],
   "source": [
    "fig, ax = plt.subplots()\n",
    "\n",
    "ax.set_ylabel('total time by convolutions (ms)')\n",
    "ax.set_title('Convolution times by kernel size')\n",
    "ax.set_xlabel('kernel size')\n",
    "\n",
    "\n",
    "x = np.arange(len(result))\n",
    "ax.bar(x, result['conv_time_total'])\n",
    "xlabels = [str(s) for s in result['kernel_size']]\n",
    "ax.set_xticks(x)\n",
    "ax.set_xticklabels(xlabels)\n",
    "\n",
    "\n",
    "fig.tight_layout()\n",
    "plt.show()"
   ]
  },
  {
   "cell_type": "code",
   "execution_count": 9,
   "outputs": [],
   "source": [
    "\n"
   ],
   "metadata": {
    "collapsed": false,
    "pycharm": {
     "name": "#%%\n"
    }
   }
  }
 ],
 "metadata": {
  "kernelspec": {
   "display_name": "Python 3",
   "language": "python",
   "name": "python3"
  },
  "language_info": {
   "codemirror_mode": {
    "name": "ipython",
    "version": 3
   },
   "file_extension": ".py",
   "mimetype": "text/x-python",
   "name": "python",
   "nbconvert_exporter": "python",
   "pygments_lexer": "ipython3",
   "version": "3.6.9"
  }
 },
 "nbformat": 4,
 "nbformat_minor": 4
}